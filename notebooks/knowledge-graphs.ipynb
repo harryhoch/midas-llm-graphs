{
 "cells": [
  {
   "cell_type": "markdown",
   "id": "f7d9d3e9",
   "metadata": {},
   "source": [
    "# 06.2 - Knowledge Graph creation with LangChain\n",
    "\n",
    "This notebook demonstrates how to automatically create a knowledge graph from research paper abstracts LangChain and LLMs."
   ]
  },
  {
   "cell_type": "markdown",
   "id": "4017b4bd",
   "metadata": {},
   "source": [
    "## 01 - Setup"
   ]
  },
  {
   "cell_type": "markdown",
   "id": "8348d9f8",
   "metadata": {},
   "source": [
    "Ensure the necessary modules are installed and up to date."
   ]
  },
  {
   "cell_type": "code",
   "execution_count": 1,
   "id": "e39cf81f",
   "metadata": {},
   "outputs": [
    {
     "name": "stdout",
     "output_type": "stream",
     "text": [
      "Note: you may need to restart the kernel to use updated packages.\n"
     ]
    }
   ],
   "source": [
    "%pip install --upgrade --quiet  langchain langchain-community langchain-experimental langchain-ollama json_repair"
   ]
  },
  {
   "cell_type": "markdown",
   "id": "b4fe25e2",
   "metadata": {},
   "source": [
    "Local LLMs are accessed via Ollama in this notebook. Ollama can be installed from https://ollama.com/."
   ]
  },
  {
   "cell_type": "markdown",
   "id": "5975f13d",
   "metadata": {},
   "source": [
    "## 02 - Data Preparation\n",
    "\n",
    "For creating a knowledge graph with LangChain, we need to prepare the data by loading the research papers into LangChain Document objects.\n",
    "\n",
    "In this step, we can either load the MIDAS papers that our LLM has classified as modeling papers (5700+ documents), or we can load the training papers from the MIDAS dataset (46). For starting, the latter, smaller dataset is recommended."
   ]
  },
  {
   "cell_type": "markdown",
   "id": "8968fb61",
   "metadata": {},
   "source": [
    "Load the classified papers (5700+ documents):"
   ]
  },
  {
   "cell_type": "code",
   "execution_count": 1,
   "id": "bc5da0c8",
   "metadata": {},
   "outputs": [
    {
     "data": {
      "text/plain": [
       "'Papers loaded: 5737'"
      ]
     },
     "execution_count": 1,
     "metadata": {},
     "output_type": "execute_result"
    }
   ],
   "source": [
    "import sys\n",
    "sys.path.append(\"..\")\n",
    "\n",
    "import pandas as pd\n",
    "from genscai import paths\n",
    "from langchain_core.documents import Document\n",
    "\n",
    "df_modeling_papers = pd.read_json(paths.data / \"modeling_papers_0.json\", orient=\"records\", lines=True)\n",
    "\n",
    "documents = []\n",
    "\n",
    "for row in df_modeling_papers.itertuples():\n",
    "    documents.append(Document(id=row.id, page_content=row.abstract))\n",
    "\n",
    "f\"Papers loaded: {len(documents)}\""
   ]
  },
  {
   "cell_type": "markdown",
   "id": "e7da2e50",
   "metadata": {},
   "source": [
    "Alternatively, load the training papers (46 documents):"
   ]
  },
  {
   "cell_type": "code",
   "execution_count": 2,
   "id": "8c8e23e2",
   "metadata": {},
   "outputs": [
    {
     "data": {
      "text/plain": [
       "'Papers loaded: 46'"
      ]
     },
     "execution_count": 2,
     "metadata": {},
     "output_type": "execute_result"
    }
   ],
   "source": [
    "import json\n",
    "from genscai import paths\n",
    "from langchain_core.documents import Document\n",
    "\n",
    "with open(paths.data / \"training_modeling_papers.json\", \"r\") as f:\n",
    "    data = json.load(f)\n",
    "\n",
    "documents = []\n",
    "\n",
    "for row in data:\n",
    "    documents.append(Document(page_content=row[\"abstract\"]))\n",
    "\n",
    "f\"Papers loaded: {len(documents)}\""
   ]
  },
  {
   "cell_type": "markdown",
   "id": "3b72fa3b",
   "metadata": {},
   "source": [
    "## 03 - Create a Knowledge Graph\n",
    "\n",
    "LangChain provides direct, experimental support for creating knowledge graphs from documents using LLMs. This is done by using the `LLMGraphTransformer` class.\n",
    "\n",
    "Documentation on using LLMGraphTransformer can be found at:\n",
    "https://python.langchain.com/docs/how_to/graph_constructing/\n",
    "\n",
    "The prompt that LLMGraphTransformer uses to identify graph entities and relationships can be found at:\n",
    "https://python.langchain.com/api_reference/_modules/langchain_experimental/graph_transformers/llm.html#create_unstructured_prompt"
   ]
  },
  {
   "cell_type": "markdown",
   "id": "0670ccc4",
   "metadata": {},
   "source": [
    "Inport the necessary modules so they can be used later:"
   ]
  },
  {
   "cell_type": "code",
   "execution_count": 3,
   "id": "2be61f29",
   "metadata": {},
   "outputs": [],
   "source": [
    "from langchain_experimental.graph_transformers import LLMGraphTransformer\n",
    "from langchain_ollama.llms import OllamaLLM\n",
    "\n",
    "def print_graph_results(graph_documents: list[Document]) -> None:\n",
    "    for doc in graph_documents:\n",
    "        if len(doc.nodes) > 0:\n",
    "            print(f\"Paper ID: {doc.source.id}\")\n",
    "            print(f\"Paper Abstract: {doc.source.page_content}\")\n",
    "\n",
    "            for node in doc.nodes:\n",
    "                print(node)\n",
    "                print(f\"Node: {node.id}, Type: {node.type}\")\n",
    "\n",
    "            for rel in doc.relationships:\n",
    "                print(f\"Relationship: {rel.type}\")\n",
    "                print(f\"   Source: {rel.source.id}, Type: {rel.source.type}\")\n",
    "                print(f\"   Target: {rel.target.id}, Type: {rel.target.type}\")\n",
    "\n",
    "            print()"
   ]
  },
  {
   "cell_type": "markdown",
   "id": "c1219508",
   "metadata": {},
   "source": [
    "For the first test, allow the model to infer both node types and relationships. Here we'll use the Gemma 3 12B model."
   ]
  },
  {
   "cell_type": "code",
   "execution_count": 4,
   "id": "f07bbab8",
   "metadata": {},
   "outputs": [
    {
     "name": "stdout",
     "output_type": "stream",
     "text": [
      "Paper ID: None\n",
      "Paper Abstract: Background: Since the appearance of the first case of COVID-19 in Morocco, the cumulative number of reported infectious cases continues to increase and, consequently, the government imposed the containment measure within the country. Our aim is to predict the impact of the compulsory containment on COVID-19 spread. Earlier knowledge of the epidemic characteristics of COVID-19 transmission related to Morocco will be of great interest to establish an optimal plan-of-action to control the epidemic.\n",
      "\n",
      "Method: Using a Susceptible-Asymptomatic-Infectious model and the data of reported cumulative confirmed cases in Morocco from March 2nd to April 9, 2020, we determined the basic and control reproduction numbers and we estimated the model parameter values. Furthermore, simulations of different scenarios of containment are performed.\n",
      "\n",
      "Results: Epidemic characteristics are predicted according to different rates of containment. The basic reproduction number is estimated to be 2.9949, with CI(2.6729-3.1485). Furthermore, a threshold value of containment rate, below which the epidemic duration is postponed, is determined.\n",
      "\n",
      "Conclusion: Our findings show that the basic reproduction number reflects a high speed of spread of the epidemic. Furthermore, the compulsory containment can be efficient if more than 73% of population are confined. However, even with 90% of containment, the end-time is estimated to happen on July 4th which can be harmful and lead to consequent social-economic damages. Thus, containment need to be accompanied by other measures such as mass testing to reduce the size of asymptomatic population. Indeed, our sensitivity analysis investigation shows that the COVID-19 dynamics depends strongly on the asymptomatic duration as well as the contact and containment rates. Our results can help the Moroccan government to anticipate the spread of COVID-19 and avoid human loses and consequent social-economic damages as well.\n",
      "id='containment measure' type='Measure' properties={}\n",
      "Node: containment measure, Type: Measure\n",
      "id='epidemic duration' type='Duration' properties={}\n",
      "Node: epidemic duration, Type: Duration\n",
      "id='July 4th' type='Date' properties={}\n",
      "Node: July 4th, Type: Date\n",
      "id='COVID-19 spread' type='Spread' properties={}\n",
      "Node: COVID-19 spread, Type: Spread\n",
      "id='Morocco' type='Country' properties={}\n",
      "Node: Morocco, Type: Country\n",
      "id='90%' type='Percentage' properties={}\n",
      "Node: 90%, Type: Percentage\n",
      "id='containment rate' type='Rate' properties={}\n",
      "Node: containment rate, Type: Rate\n",
      "id='mass testing' type='Measure' properties={}\n",
      "Node: mass testing, Type: Measure\n",
      "id='containment' type='Measure' properties={}\n",
      "Node: containment, Type: Measure\n",
      "id='73%' type='Percentage' properties={}\n",
      "Node: 73%, Type: Percentage\n",
      "id='COVID-19' type='Disease' properties={}\n",
      "Node: COVID-19, Type: Disease\n",
      "Relationship: AFFECTS\n",
      "   Source: COVID-19, Type: Disease\n",
      "   Target: Morocco, Type: Country\n",
      "Relationship: HAS_EPIDEMIC\n",
      "   Source: Morocco, Type: Country\n",
      "   Target: COVID-19, Type: Disease\n",
      "Relationship: APPLIED_TO\n",
      "   Source: containment measure, Type: Measure\n",
      "   Target: Morocco, Type: Country\n",
      "Relationship: HAS_EFFECT_ON\n",
      "   Source: containment measure, Type: Measure\n",
      "   Target: COVID-19 spread, Type: Spread\n",
      "Relationship: POSTPONES\n",
      "   Source: containment rate, Type: Rate\n",
      "   Target: epidemic duration, Type: Duration\n",
      "Relationship: REPRESENTS\n",
      "   Source: 73%, Type: Percentage\n",
      "   Target: containment rate, Type: Rate\n",
      "Relationship: REPRESENTS\n",
      "   Source: 90%, Type: Percentage\n",
      "   Target: containment rate, Type: Rate\n",
      "Relationship: IS_END_TIME_OF\n",
      "   Source: July 4th, Type: Date\n",
      "   Target: epidemic duration, Type: Duration\n",
      "Relationship: SHOULD_BE_USED_WITH\n",
      "   Source: mass testing, Type: Measure\n",
      "   Target: containment, Type: Measure\n",
      "\n"
     ]
    }
   ],
   "source": [
    "llm = OllamaLLM(model=\"gemma3:latest\", temperature=0.1)\n",
    "transformer = LLMGraphTransformer(llm=llm)\n",
    "\n",
    "transformer = LLMGraphTransformer(\n",
    "    llm=llm,\n",
    ")\n",
    "\n",
    "# Process a single document for testing\n",
    "graph_documents = transformer.convert_to_graph_documents(documents[:1])\n",
    "\n",
    "print_graph_results(graph_documents)"
   ]
  },
  {
   "cell_type": "markdown",
   "id": "22ad3e3b",
   "metadata": {},
   "source": [
    "Next, create a knowledge graph with specific node types."
   ]
  },
  {
   "cell_type": "code",
   "execution_count": 5,
   "id": "bf0b2d96",
   "metadata": {},
   "outputs": [
    {
     "name": "stdout",
     "output_type": "stream",
     "text": [
      "Paper ID: None\n",
      "Paper Abstract: Background: Since the appearance of the first case of COVID-19 in Morocco, the cumulative number of reported infectious cases continues to increase and, consequently, the government imposed the containment measure within the country. Our aim is to predict the impact of the compulsory containment on COVID-19 spread. Earlier knowledge of the epidemic characteristics of COVID-19 transmission related to Morocco will be of great interest to establish an optimal plan-of-action to control the epidemic.\n",
      "\n",
      "Method: Using a Susceptible-Asymptomatic-Infectious model and the data of reported cumulative confirmed cases in Morocco from March 2nd to April 9, 2020, we determined the basic and control reproduction numbers and we estimated the model parameter values. Furthermore, simulations of different scenarios of containment are performed.\n",
      "\n",
      "Results: Epidemic characteristics are predicted according to different rates of containment. The basic reproduction number is estimated to be 2.9949, with CI(2.6729-3.1485). Furthermore, a threshold value of containment rate, below which the epidemic duration is postponed, is determined.\n",
      "\n",
      "Conclusion: Our findings show that the basic reproduction number reflects a high speed of spread of the epidemic. Furthermore, the compulsory containment can be efficient if more than 73% of population are confined. However, even with 90% of containment, the end-time is estimated to happen on July 4th which can be harmful and lead to consequent social-economic damages. Thus, containment need to be accompanied by other measures such as mass testing to reduce the size of asymptomatic population. Indeed, our sensitivity analysis investigation shows that the COVID-19 dynamics depends strongly on the asymptomatic duration as well as the contact and containment rates. Our results can help the Moroccan government to anticipate the spread of COVID-19 and avoid human loses and consequent social-economic damages as well.\n",
      "id='end-time' type='Disease Modeling Goal' properties={}\n",
      "Node: end-time, Type: Disease Modeling Goal\n",
      "id='July 4th' type='Disease Modeling Goal' properties={}\n",
      "Node: July 4th, Type: Disease Modeling Goal\n",
      "id='containment need' type='Disease Modeling Goal' properties={}\n",
      "Node: containment need, Type: Disease Modeling Goal\n",
      "id='epidemic duration' type='Disease Modeling Goal' properties={}\n",
      "Node: epidemic duration, Type: Disease Modeling Goal\n",
      "id='COVID-19' type='Disease Modeled' properties={}\n",
      "Node: COVID-19, Type: Disease Modeled\n",
      "id='Morocco' type='Geographic Location' properties={}\n",
      "Node: Morocco, Type: Geographic Location\n",
      "Relationship: SPREADS_IN\n",
      "   Source: COVID-19, Type: Disease Modeled\n",
      "   Target: Morocco, Type: Geographic Location\n",
      "Relationship: IS_ON\n",
      "   Source: July 4th, Type: Disease Modeling Goal\n",
      "   Target: end-time, Type: Disease Modeling Goal\n",
      "\n"
     ]
    }
   ],
   "source": [
    "transformer = LLMGraphTransformer(\n",
    "    llm=llm,\n",
    "    allowed_nodes=[\n",
    "        \"Disease Modeling Goal\",\n",
    "        \"Diesase Modeling Technique\",\n",
    "        \"Disease Model Data Requirement\",\n",
    "        \"Disease Modeled\",\n",
    "        \"Geographic Location\",\n",
    "    ],\n",
    ")\n",
    "\n",
    "# Process a single document for testing\n",
    "graph_documents = transformer.convert_to_graph_documents(documents[:1])\n",
    "\n",
    "print_graph_results(graph_documents)"
   ]
  },
  {
   "cell_type": "markdown",
   "id": "54cd40d8",
   "metadata": {},
   "source": [
    "Different models will produce varying results. The Mistral Small 3.1 model should produce better results than the Gemma 3 model; howver, the model requires more memory (~15GB at 4-bit quantization)."
   ]
  },
  {
   "cell_type": "code",
   "execution_count": 10,
   "id": "da876606",
   "metadata": {},
   "outputs": [
    {
     "name": "stdout",
     "output_type": "stream",
     "text": [
      "Paper ID: None\n",
      "Paper Abstract: Background: Since the appearance of the first case of COVID-19 in Morocco, the cumulative number of reported infectious cases continues to increase and, consequently, the government imposed the containment measure within the country. Our aim is to predict the impact of the compulsory containment on COVID-19 spread. Earlier knowledge of the epidemic characteristics of COVID-19 transmission related to Morocco will be of great interest to establish an optimal plan-of-action to control the epidemic.\n",
      "\n",
      "Method: Using a Susceptible-Asymptomatic-Infectious model and the data of reported cumulative confirmed cases in Morocco from March 2nd to April 9, 2020, we determined the basic and control reproduction numbers and we estimated the model parameter values. Furthermore, simulations of different scenarios of containment are performed.\n",
      "\n",
      "Results: Epidemic characteristics are predicted according to different rates of containment. The basic reproduction number is estimated to be 2.9949, with CI(2.6729-3.1485). Furthermore, a threshold value of containment rate, below which the epidemic duration is postponed, is determined.\n",
      "\n",
      "Conclusion: Our findings show that the basic reproduction number reflects a high speed of spread of the epidemic. Furthermore, the compulsory containment can be efficient if more than 73% of population are confined. However, even with 90% of containment, the end-time is estimated to happen on July 4th which can be harmful and lead to consequent social-economic damages. Thus, containment need to be accompanied by other measures such as mass testing to reduce the size of asymptomatic population. Indeed, our sensitivity analysis investigation shows that the COVID-19 dynamics depends strongly on the asymptomatic duration as well as the contact and containment rates. Our results can help the Moroccan government to anticipate the spread of COVID-19 and avoid human loses and consequent social-economic damages as well.\n",
      "id='threshold value of containment rate, below which the epidemic duration is postponed' type='Disease Model Data Requirement' properties={}\n",
      "Node: threshold value of containment rate, below which the epidemic duration is postponed, Type: Disease Model Data Requirement\n",
      "id='predict the impact of the compulsory containment on COVID-19 spread' type='Disease Modeling Goal' properties={}\n",
      "Node: predict the impact of the compulsory containment on COVID-19 spread, Type: Disease Modeling Goal\n",
      "id='COVID-19 dynamics' type='Disease Modeled' properties={}\n",
      "Node: COVID-19 dynamics, Type: Disease Modeled\n",
      "id='asymptomatic duration as well as the contact and containment rates.' type='Disease Model Data Requirement' properties={}\n",
      "Node: asymptomatic duration as well as the contact and containment rates., Type: Disease Model Data Requirement\n",
      "id='Susceptible-Asymptomatic-Infectious model' type='Diesase Modeling Technique' properties={}\n",
      "Node: Susceptible-Asymptomatic-Infectious model, Type: Diesase Modeling Technique\n",
      "id='basic reproduction number is estimated to be 2.9949, with CI(2.6729-3.1485)' type='Disease Model Data Requirement' properties={}\n",
      "Node: basic reproduction number is estimated to be 2.9949, with CI(2.6729-3.1485), Type: Disease Model Data Requirement\n",
      "id='end-time is estimated to happen on July 4th which can be harmful and lead to consequent social-economic damages.' type='Disease Model Data Requirement' properties={}\n",
      "Node: end-time is estimated to happen on July 4th which can be harmful and lead to consequent social-economic damages., Type: Disease Model Data Requirement\n",
      "id='anticipate the spread of COVID-19 and avoid human loses and consequent social-economic damages as well.' type='Disease Modeling Goal' properties={}\n",
      "Node: anticipate the spread of COVID-19 and avoid human loses and consequent social-economic damages as well., Type: Disease Modeling Goal\n",
      "id='establish an optimal plan-of-action to control the epidemic' type='Disease Modeling Goal' properties={}\n",
      "Node: establish an optimal plan-of-action to control the epidemic, Type: Disease Modeling Goal\n",
      "id='data of reported cumulative confirmed cases in Morocco from March 2nd to April 9, 2020' type='Disease Model Data Requirement' properties={}\n",
      "Node: data of reported cumulative confirmed cases in Morocco from March 2nd to April 9, 2020, Type: Disease Model Data Requirement\n",
      "id='COVID-19' type='Disease Modeled' properties={}\n",
      "Node: COVID-19, Type: Disease Modeled\n",
      "id='Morocco' type='Geographic Location' properties={}\n",
      "Node: Morocco, Type: Geographic Location\n",
      "Relationship: MODELED_IN\n",
      "   Source: COVID-19, Type: Disease Modeled\n",
      "   Target: Morocco, Type: Geographic Location\n",
      "Relationship: HAS_GOAL\n",
      "   Source: COVID-19, Type: Disease Modeled\n",
      "   Target: predict the impact of the compulsory containment on COVID-19 spread, Type: Disease Modeling Goal\n",
      "Relationship: HAS_GOAL\n",
      "   Source: COVID-19, Type: Disease Modeled\n",
      "   Target: establish an optimal plan-of-action to control the epidemic, Type: Disease Modeling Goal\n",
      "Relationship: USED_FOR\n",
      "   Source: Susceptible-Asymptomatic-Infectious model, Type: Diesase Modeling Technique\n",
      "   Target: COVID-19, Type: Disease Modeled\n",
      "Relationship: HAS_DATA_REQUIREMENT\n",
      "   Source: Morocco, Type: Geographic Location\n",
      "   Target: data of reported cumulative confirmed cases in Morocco from March 2nd to April 9, 2020, Type: Disease Model Data Requirement\n",
      "Relationship: HAS_CHARACTERISTIC\n",
      "   Source: COVID-19, Type: Disease Modeled\n",
      "   Target: basic reproduction number is estimated to be 2.9949, with CI(2.6729-3.1485), Type: Disease Model Data Requirement\n",
      "Relationship: HAS_CHARACTERISTIC\n",
      "   Source: COVID-19, Type: Disease Modeled\n",
      "   Target: threshold value of containment rate, below which the epidemic duration is postponed, Type: Disease Model Data Requirement\n",
      "Relationship: HAS_CHARACTERISTIC\n",
      "   Source: COVID-19, Type: Disease Modeled\n",
      "   Target: end-time is estimated to happen on July 4th which can be harmful and lead to consequent social-economic damages., Type: Disease Model Data Requirement\n",
      "Relationship: HAS_GOAL\n",
      "   Source: COVID-19, Type: Disease Modeled\n",
      "   Target: anticipate the spread of COVID-19 and avoid human loses and consequent social-economic damages as well., Type: Disease Modeling Goal\n",
      "Relationship: DEPENDS_ON\n",
      "   Source: COVID-19 dynamics, Type: Disease Modeled\n",
      "   Target: asymptomatic duration as well as the contact and containment rates., Type: Disease Model Data Requirement\n",
      "\n"
     ]
    }
   ],
   "source": [
    "llm = OllamaLLM(model=\"mistral-small:latest\", temperature=0.15)\n",
    "transformer = LLMGraphTransformer(llm=llm)\n",
    "\n",
    "transformer = LLMGraphTransformer(\n",
    "    llm=llm,\n",
    "    allowed_nodes=[\n",
    "        \"Disease Modeling Goal\",\n",
    "        \"Diesase Modeling Technique\",\n",
    "        \"Disease Model Data Requirement\",\n",
    "        \"Disease Modeled\",\n",
    "        \"Geographic Location\",\n",
    "    ],\n",
    ")\n",
    "\n",
    "# Process a subset of the documents as a test\n",
    "graph_documents = transformer.convert_to_graph_documents(documents[:1])\n",
    "\n",
    "print_graph_results(graph_documents)"
   ]
  },
  {
   "cell_type": "markdown",
   "id": "76520b5d",
   "metadata": {},
   "source": [
    "Relationships can be constrained as well. Either the names of the relatioships can be specificed, and the model will infter the nodes that are connected by these relationships, or allowed subject-predicate-object tuples can be specified."
   ]
  },
  {
   "cell_type": "code",
   "execution_count": 16,
   "id": "63ec0b10",
   "metadata": {
    "scrolled": true
   },
   "outputs": [],
   "source": [
    "allowed_relationships = [\n",
    "    (\"Disease Modeled\", \"LOCATION\", \"Geographic Location\"),\n",
    "]\n",
    "\n",
    "transformer = LLMGraphTransformer(\n",
    "    llm=llm,\n",
    "    allowed_nodes=[\n",
    "        \"Disease Modeling Goal\",\n",
    "        \"Diesase Modeling Technique\",\n",
    "        \"Disease Model Data Requirement\",\n",
    "        \"Disease Modeled\",\n",
    "        \"Geographic Location\",\n",
    "    ],\n",
    "    allowed_relationships=allowed_relationships,\n",
    ")\n",
    "\n",
    "# Process a subset of the documents as a test\n",
    "graph_documents = transformer.convert_to_graph_documents(documents[:1])\n",
    "\n",
    "print_graph_results(graph_documents)"
   ]
  },
  {
   "cell_type": "markdown",
   "id": "c9b071ac-48eb-433f-8189-9105483f1406",
   "metadata": {},
   "source": [
    "can also specify both node and relationship types"
   ]
  },
  {
   "cell_type": "code",
   "execution_count": 21,
   "id": "11914251-cb5a-4ce5-96b9-7ec9a01d895a",
   "metadata": {},
   "outputs": [
    {
     "name": "stdout",
     "output_type": "stream",
     "text": [
      "Paper ID: None\n",
      "Paper Abstract: Background: Since the appearance of the first case of COVID-19 in Morocco, the cumulative number of reported infectious cases continues to increase and, consequently, the government imposed the containment measure within the country. Our aim is to predict the impact of the compulsory containment on COVID-19 spread. Earlier knowledge of the epidemic characteristics of COVID-19 transmission related to Morocco will be of great interest to establish an optimal plan-of-action to control the epidemic.\n",
      "\n",
      "Method: Using a Susceptible-Asymptomatic-Infectious model and the data of reported cumulative confirmed cases in Morocco from March 2nd to April 9, 2020, we determined the basic and control reproduction numbers and we estimated the model parameter values. Furthermore, simulations of different scenarios of containment are performed.\n",
      "\n",
      "Results: Epidemic characteristics are predicted according to different rates of containment. The basic reproduction number is estimated to be 2.9949, with CI(2.6729-3.1485). Furthermore, a threshold value of containment rate, below which the epidemic duration is postponed, is determined.\n",
      "\n",
      "Conclusion: Our findings show that the basic reproduction number reflects a high speed of spread of the epidemic. Furthermore, the compulsory containment can be efficient if more than 73% of population are confined. However, even with 90% of containment, the end-time is estimated to happen on July 4th which can be harmful and lead to consequent social-economic damages. Thus, containment need to be accompanied by other measures such as mass testing to reduce the size of asymptomatic population. Indeed, our sensitivity analysis investigation shows that the COVID-19 dynamics depends strongly on the asymptomatic duration as well as the contact and containment rates. Our results can help the Moroccan government to anticipate the spread of COVID-19 and avoid human loses and consequent social-economic damages as well.\n",
      "id='COVID-19 spread' type='Disease Modeled' properties={}\n",
      "Node: COVID-19 spread, Type: Disease Modeled\n",
      "id='compulsory containment' type='Disease Modeling Goal' properties={}\n",
      "Node: compulsory containment, Type: Disease Modeling Goal\n",
      "id='Morocco' type='Geographic Location' properties={}\n",
      "Node: Morocco, Type: Geographic Location\n",
      "id='COVID-19 in Morocco' type='Disease Modeled' properties={}\n",
      "Node: COVID-19 in Morocco, Type: Disease Modeled\n",
      "Relationship: LOCATION\n",
      "   Source: COVID-19 spread, Type: Disease Modeled\n",
      "   Target: Morocco, Type: Geographic Location\n",
      "\n"
     ]
    }
   ],
   "source": [
    "llm = OllamaLLM(model=\"llama3.1:latest\", temperature=0.15)\n",
    "\n",
    "allowed_relationships = [\n",
    "    (\"Disease Modeled\", \"LOCATION\", \"Geographic Location\"),\n",
    "]\n",
    "\n",
    "transformer = LLMGraphTransformer(\n",
    "    llm=llm,\n",
    "    allowed_nodes=[\n",
    "        \"Disease Modeling Goal\",\n",
    "        \"Diesase Modeling Technique\",\n",
    "        \"Disease Model Data Requirement\",\n",
    "        \"Disease Modeled\",\n",
    "        \"Geographic Location\",\n",
    "    ],\n",
    "    allowed_relationships=allowed_relationships,\n",
    ")\n",
    "\n",
    "# Process a subset of the documents as a test\n",
    "graph_documents = transformer.convert_to_graph_documents(documents[:1])\n",
    "\n",
    "print_graph_results(graph_documents)"
   ]
  }
 ],
 "metadata": {
  "kernelspec": {
   "display_name": "Python 3 (ipykernel)",
   "language": "python",
   "name": "python3"
  },
  "language_info": {
   "codemirror_mode": {
    "name": "ipython",
    "version": 3
   },
   "file_extension": ".py",
   "mimetype": "text/x-python",
   "name": "python",
   "nbconvert_exporter": "python",
   "pygments_lexer": "ipython3",
   "version": "3.11.8"
  }
 },
 "nbformat": 4,
 "nbformat_minor": 5
}
